{
 "cells": [
  {
   "cell_type": "code",
   "execution_count": 37,
   "metadata": {},
   "outputs": [],
   "source": [
    "import matplotlib.pyplot as plt\n",
    "import numpy as np\n",
    "import scipy as sci\n",
    "import qutip as qt\n",
    "from qutip import (Qobj, about, basis, coherent, coherent_dm, create, destroy,\n",
    "                   expect, fock, fock_dm, mesolve, qeye, sigmax, sigmay,\n",
    "                   sigmaz, tensor, thermal_dm)\n",
    "import lattpy as lp\n",
    "from scipy.optimize import curve_fit\n",
    "from scipy.linalg import expm\n",
    "from scipy.linalg import eigvals\n",
    "from decimal import *\n"
   ]
  },
  {
   "cell_type": "code",
   "execution_count": 38,
   "metadata": {},
   "outputs": [],
   "source": [
    "\"\"\" variables \"\"\"\n",
    "\n",
    "N=50\n",
    "d_value=1 \n",
    "gamma0 = 1\n",
    "lambda0=(2*np.pi) \n",
    "distance= (lambda0/4) \n",
    "k0=1 \n",
    "\n"
   ]
  },
  {
   "cell_type": "code",
   "execution_count": 39,
   "metadata": {},
   "outputs": [],
   "source": [
    "\"\"\"Vectors: Dipolemoment, Atomposition\"\"\"\n",
    "\n",
    "d=np.array([0,d_value,0])\n",
    "d_abs=np.linalg.norm(d)\n",
    "d = d.reshape(-1, 1)\n",
    "d_T=d.reshape(1, -1)\n",
    "\n",
    "atoms = np.zeros((N, 3))   \n",
    "for i in range(N):\n",
    "    atoms[i, 2] =  (i * distance*k0)\n",
    "r = [atoms[i] for i in range(N)]\n",
    "r_T = [i.reshape(-1, 1) for i in r]\n"
   ]
  },
  {
   "cell_type": "code",
   "execution_count": 40,
   "metadata": {},
   "outputs": [],
   "source": [
    "\"\"\"Greensfunction G0 and effective Hamiltonian H_eff\"\"\"\n",
    "\n",
    "def G0(rij,k0): \n",
    "    r0=np.linalg.norm(rij)\n",
    "    rij_T = rij.reshape(-1, 1)\n",
    "    return ((3*np.pi*k0*np.exp(1j*k0*r0))/(4*np.pi*(k0*r0)**3))*((k0**2*r0**2+1j*k0*r0-1)*np.identity(3)+((-k0**2*r0**2-3j*k0*r0+3)*(np.dot(rij,rij_T)/r0**2)))\n",
    "\n",
    "def H_eff(r,d,N):\n",
    "    Matrix = np.zeros((N,N), dtype=complex)     \n",
    "    for i in range(N):\n",
    "        for j in range(N):\n",
    "            if i == j:                          \n",
    "                Matrix[i, j] += -1j*gamma0/2\n",
    "            else:                               \n",
    "                rij = r[i] - r[j]               \n",
    "                Matrix[i, j] += -np.dot(d_T, np.dot(G0(rij,k0), d))\n",
    "    return  Matrix"
   ]
  }
 ],
 "metadata": {
  "kernelspec": {
   "display_name": "Python 3",
   "language": "python",
   "name": "python3"
  },
  "language_info": {
   "codemirror_mode": {
    "name": "ipython",
    "version": 3
   },
   "file_extension": ".py",
   "mimetype": "text/x-python",
   "name": "python",
   "nbconvert_exporter": "python",
   "pygments_lexer": "ipython3",
   "version": "3.9.6"
  }
 },
 "nbformat": 4,
 "nbformat_minor": 2
}
